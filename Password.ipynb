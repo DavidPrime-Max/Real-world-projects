{
  "nbformat": 4,
  "nbformat_minor": 0,
  "metadata": {
    "colab": {
      "provenance": []
    },
    "kernelspec": {
      "name": "python3",
      "display_name": "Python 3"
    },
    "language_info": {
      "name": "python"
    }
  },
  "cells": [
    {
      "cell_type": "code",
      "execution_count": null,
      "metadata": {
        "id": "MgilNyYx_ZVL"
      },
      "outputs": [],
      "source": [
        "import tkinter as tk\n",
        "import random\n",
        "import string\n",
        "\n",
        "# Function to generate a random password\n",
        "def generate_password(length=12):\n",
        "    characters = string.ascii_letters + string.digits + string.punctuation\n",
        "    return ''.join(random.choice(characters) for i in range(length))\n",
        "\n",
        "# Function to show the password in a new window (fake \"other app\")\n",
        "def show_password():\n",
        "    password = generate_password()\n",
        "\n",
        "    # Create a new window to display the password (acting as a different \"app\")\n",
        "    password_window = tk.Toplevel(root)\n",
        "    password_window.title(\"Password App\")\n",
        "\n",
        "    label = tk.Label(password_window, text=f\"Your password: {password}\", font=('Helvetica', 12))\n",
        "    label.pack(pady=20)\n",
        "\n",
        "    close_button = tk.Button(password_window, text=\"Close\", command=password_window.destroy)\n",
        "    close_button.pack(pady=10)\n",
        "\n",
        "# Create main window (the initial password app interface)\n",
        "root = tk.Tk()\n",
        "root.title(\"Password App\")\n",
        "root.geometry(\"300x200\")\n",
        "\n",
        "# Add a label\n",
        "label = tk.Label(root, text=\"Welcome to the Password App\", font=('Helvetica', 14))\n",
        "label.pack(pady=20)\n",
        "\n",
        "# Add a button that simulates showing a new app for password\n",
        "button = tk.Button(root, text=\"Get Password\", command=show_password)\n",
        "button.pack(pady=10)\n",
        "\n",
        "# Run the application\n",
        "root.mainloop()"
      ]
    }
  ]
}